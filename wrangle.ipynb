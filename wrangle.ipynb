{
 "cells": [
  {
   "cell_type": "markdown",
   "id": "e49dc2f5",
   "metadata": {},
   "source": [
    "# Acquire and Prep - Wrangle"
   ]
  },
  {
   "cell_type": "code",
   "execution_count": 1,
   "id": "9aa9d05c",
   "metadata": {},
   "outputs": [],
   "source": [
    "import warnings\n",
    "warnings.filterwarnings(\"ignore\")\n",
    "\n",
    "import pandas as pd\n",
    "import matplotlib.pyplot as plt\n",
    "import seaborn as sns\n",
    "import numpy as np\n",
    "import acquire"
   ]
  },
  {
   "cell_type": "markdown",
   "id": "7d79c100",
   "metadata": {},
   "source": [
    "## Acquire the Data\n",
    "\n",
    "Let's use acquire.py to pull data from the Zillow database using a SQL query, create a local csv pandas, and return a pandas DataFrame."
   ]
  },
  {
   "cell_type": "code",
   "execution_count": 2,
   "id": "30bbe9bc",
   "metadata": {},
   "outputs": [],
   "source": [
    "df = acquire.get_zillow_data()"
   ]
  },
  {
   "cell_type": "markdown",
   "id": "b8e7b1a0",
   "metadata": {},
   "source": [
    "### Sample and Summarize\n",
    "\n",
    "Let's take a look at the DataFrame we brought in and document our initial findings."
   ]
  },
  {
   "cell_type": "code",
   "execution_count": 3,
   "id": "0fc93078",
   "metadata": {},
   "outputs": [
    {
     "data": {
      "text/html": [
       "<div>\n",
       "<style scoped>\n",
       "    .dataframe tbody tr th:only-of-type {\n",
       "        vertical-align: middle;\n",
       "    }\n",
       "\n",
       "    .dataframe tbody tr th {\n",
       "        vertical-align: top;\n",
       "    }\n",
       "\n",
       "    .dataframe thead th {\n",
       "        text-align: right;\n",
       "    }\n",
       "</style>\n",
       "<table border=\"1\" class=\"dataframe\">\n",
       "  <thead>\n",
       "    <tr style=\"text-align: right;\">\n",
       "      <th></th>\n",
       "      <th>bedroomcnt</th>\n",
       "      <th>bathroomcnt</th>\n",
       "      <th>calculatedfinishedsquarefeet</th>\n",
       "      <th>taxvaluedollarcnt</th>\n",
       "      <th>yearbuilt</th>\n",
       "      <th>taxamount</th>\n",
       "      <th>fips</th>\n",
       "    </tr>\n",
       "  </thead>\n",
       "  <tbody>\n",
       "    <tr>\n",
       "      <th>0</th>\n",
       "      <td>0.0</td>\n",
       "      <td>0.0</td>\n",
       "      <td>NaN</td>\n",
       "      <td>27516.0</td>\n",
       "      <td>NaN</td>\n",
       "      <td>NaN</td>\n",
       "      <td>6037.0</td>\n",
       "    </tr>\n",
       "    <tr>\n",
       "      <th>1</th>\n",
       "      <td>0.0</td>\n",
       "      <td>0.0</td>\n",
       "      <td>NaN</td>\n",
       "      <td>10.0</td>\n",
       "      <td>NaN</td>\n",
       "      <td>NaN</td>\n",
       "      <td>6037.0</td>\n",
       "    </tr>\n",
       "    <tr>\n",
       "      <th>2</th>\n",
       "      <td>0.0</td>\n",
       "      <td>0.0</td>\n",
       "      <td>NaN</td>\n",
       "      <td>10.0</td>\n",
       "      <td>NaN</td>\n",
       "      <td>NaN</td>\n",
       "      <td>6037.0</td>\n",
       "    </tr>\n",
       "    <tr>\n",
       "      <th>3</th>\n",
       "      <td>0.0</td>\n",
       "      <td>0.0</td>\n",
       "      <td>NaN</td>\n",
       "      <td>2108.0</td>\n",
       "      <td>NaN</td>\n",
       "      <td>174.21</td>\n",
       "      <td>6037.0</td>\n",
       "    </tr>\n",
       "    <tr>\n",
       "      <th>4</th>\n",
       "      <td>4.0</td>\n",
       "      <td>2.0</td>\n",
       "      <td>3633.0</td>\n",
       "      <td>296425.0</td>\n",
       "      <td>2005.0</td>\n",
       "      <td>6941.39</td>\n",
       "      <td>6037.0</td>\n",
       "    </tr>\n",
       "  </tbody>\n",
       "</table>\n",
       "</div>"
      ],
      "text/plain": [
       "   bedroomcnt  bathroomcnt  calculatedfinishedsquarefeet  taxvaluedollarcnt  \\\n",
       "0         0.0          0.0                           NaN            27516.0   \n",
       "1         0.0          0.0                           NaN               10.0   \n",
       "2         0.0          0.0                           NaN               10.0   \n",
       "3         0.0          0.0                           NaN             2108.0   \n",
       "4         4.0          2.0                        3633.0           296425.0   \n",
       "\n",
       "   yearbuilt  taxamount    fips  \n",
       "0        NaN        NaN  6037.0  \n",
       "1        NaN        NaN  6037.0  \n",
       "2        NaN        NaN  6037.0  \n",
       "3        NaN     174.21  6037.0  \n",
       "4     2005.0    6941.39  6037.0  "
      ]
     },
     "execution_count": 3,
     "metadata": {},
     "output_type": "execute_result"
    }
   ],
   "source": [
    "df.head()"
   ]
  },
  {
   "cell_type": "code",
   "execution_count": 4,
   "id": "80e289e3",
   "metadata": {},
   "outputs": [
    {
     "data": {
      "text/plain": [
       "(2152863, 7)"
      ]
     },
     "execution_count": 4,
     "metadata": {},
     "output_type": "execute_result"
    }
   ],
   "source": [
    "#  Dataframe consists of:  Rows: 2,152,863 Columns: 7  \n",
    "\n",
    "df.shape"
   ]
  },
  {
   "cell_type": "code",
   "execution_count": 5,
   "id": "872c9047",
   "metadata": {},
   "outputs": [
    {
     "data": {
      "text/html": [
       "<div>\n",
       "<style scoped>\n",
       "    .dataframe tbody tr th:only-of-type {\n",
       "        vertical-align: middle;\n",
       "    }\n",
       "\n",
       "    .dataframe tbody tr th {\n",
       "        vertical-align: top;\n",
       "    }\n",
       "\n",
       "    .dataframe thead th {\n",
       "        text-align: right;\n",
       "    }\n",
       "</style>\n",
       "<table border=\"1\" class=\"dataframe\">\n",
       "  <thead>\n",
       "    <tr style=\"text-align: right;\">\n",
       "      <th></th>\n",
       "      <th>count</th>\n",
       "      <th>mean</th>\n",
       "      <th>std</th>\n",
       "      <th>min</th>\n",
       "      <th>25%</th>\n",
       "      <th>50%</th>\n",
       "      <th>75%</th>\n",
       "      <th>max</th>\n",
       "    </tr>\n",
       "  </thead>\n",
       "  <tbody>\n",
       "    <tr>\n",
       "      <th>bedroomcnt</th>\n",
       "      <td>2152852.0</td>\n",
       "      <td>3.287196</td>\n",
       "      <td>0.954754</td>\n",
       "      <td>0.00</td>\n",
       "      <td>3.00</td>\n",
       "      <td>3.00</td>\n",
       "      <td>4.00</td>\n",
       "      <td>25.00</td>\n",
       "    </tr>\n",
       "    <tr>\n",
       "      <th>bathroomcnt</th>\n",
       "      <td>2152852.0</td>\n",
       "      <td>2.230688</td>\n",
       "      <td>0.999280</td>\n",
       "      <td>0.00</td>\n",
       "      <td>2.00</td>\n",
       "      <td>2.00</td>\n",
       "      <td>3.00</td>\n",
       "      <td>32.00</td>\n",
       "    </tr>\n",
       "    <tr>\n",
       "      <th>calculatedfinishedsquarefeet</th>\n",
       "      <td>2144379.0</td>\n",
       "      <td>1862.855178</td>\n",
       "      <td>1222.125124</td>\n",
       "      <td>1.00</td>\n",
       "      <td>1257.00</td>\n",
       "      <td>1623.00</td>\n",
       "      <td>2208.00</td>\n",
       "      <td>952576.00</td>\n",
       "    </tr>\n",
       "    <tr>\n",
       "      <th>taxvaluedollarcnt</th>\n",
       "      <td>2152370.0</td>\n",
       "      <td>461896.237963</td>\n",
       "      <td>699676.049600</td>\n",
       "      <td>1.00</td>\n",
       "      <td>188170.25</td>\n",
       "      <td>327671.00</td>\n",
       "      <td>534527.00</td>\n",
       "      <td>98428909.00</td>\n",
       "    </tr>\n",
       "    <tr>\n",
       "      <th>yearbuilt</th>\n",
       "      <td>2143526.0</td>\n",
       "      <td>1960.949681</td>\n",
       "      <td>22.162196</td>\n",
       "      <td>1801.00</td>\n",
       "      <td>1949.00</td>\n",
       "      <td>1958.00</td>\n",
       "      <td>1976.00</td>\n",
       "      <td>2016.00</td>\n",
       "    </tr>\n",
       "    <tr>\n",
       "      <th>taxamount</th>\n",
       "      <td>2148421.0</td>\n",
       "      <td>5634.865978</td>\n",
       "      <td>8178.910249</td>\n",
       "      <td>1.85</td>\n",
       "      <td>2534.98</td>\n",
       "      <td>4108.95</td>\n",
       "      <td>6414.32</td>\n",
       "      <td>1337755.86</td>\n",
       "    </tr>\n",
       "    <tr>\n",
       "      <th>fips</th>\n",
       "      <td>2152863.0</td>\n",
       "      <td>6048.377335</td>\n",
       "      <td>20.433292</td>\n",
       "      <td>6037.00</td>\n",
       "      <td>6037.00</td>\n",
       "      <td>6037.00</td>\n",
       "      <td>6059.00</td>\n",
       "      <td>6111.00</td>\n",
       "    </tr>\n",
       "  </tbody>\n",
       "</table>\n",
       "</div>"
      ],
      "text/plain": [
       "                                  count           mean            std  \\\n",
       "bedroomcnt                    2152852.0       3.287196       0.954754   \n",
       "bathroomcnt                   2152852.0       2.230688       0.999280   \n",
       "calculatedfinishedsquarefeet  2144379.0    1862.855178    1222.125124   \n",
       "taxvaluedollarcnt             2152370.0  461896.237963  699676.049600   \n",
       "yearbuilt                     2143526.0    1960.949681      22.162196   \n",
       "taxamount                     2148421.0    5634.865978    8178.910249   \n",
       "fips                          2152863.0    6048.377335      20.433292   \n",
       "\n",
       "                                  min        25%        50%        75%  \\\n",
       "bedroomcnt                       0.00       3.00       3.00       4.00   \n",
       "bathroomcnt                      0.00       2.00       2.00       3.00   \n",
       "calculatedfinishedsquarefeet     1.00    1257.00    1623.00    2208.00   \n",
       "taxvaluedollarcnt                1.00  188170.25  327671.00  534527.00   \n",
       "yearbuilt                     1801.00    1949.00    1958.00    1976.00   \n",
       "taxamount                        1.85    2534.98    4108.95    6414.32   \n",
       "fips                          6037.00    6037.00    6037.00    6059.00   \n",
       "\n",
       "                                      max  \n",
       "bedroomcnt                          25.00  \n",
       "bathroomcnt                         32.00  \n",
       "calculatedfinishedsquarefeet    952576.00  \n",
       "taxvaluedollarcnt             98428909.00  \n",
       "yearbuilt                         2016.00  \n",
       "taxamount                      1337755.86  \n",
       "fips                              6111.00  "
      ]
     },
     "execution_count": 5,
     "metadata": {},
     "output_type": "execute_result"
    }
   ],
   "source": [
    "# Display readable summary statistics for numeric columns. \n",
    "\n",
    "df.describe().T"
   ]
  },
  {
   "cell_type": "code",
   "execution_count": 6,
   "id": "b2304999",
   "metadata": {},
   "outputs": [
    {
     "name": "stdout",
     "output_type": "stream",
     "text": [
      "<class 'pandas.core.frame.DataFrame'>\n",
      "Int64Index: 2152863 entries, 0 to 2152862\n",
      "Data columns (total 7 columns):\n",
      " #   Column                        Dtype  \n",
      "---  ------                        -----  \n",
      " 0   bedroomcnt                    float64\n",
      " 1   bathroomcnt                   float64\n",
      " 2   calculatedfinishedsquarefeet  float64\n",
      " 3   taxvaluedollarcnt             float64\n",
      " 4   yearbuilt                     float64\n",
      " 5   taxamount                     float64\n",
      " 6   fips                          float64\n",
      "dtypes: float64(7)\n",
      "memory usage: 131.4 MB\n"
     ]
    }
   ],
   "source": [
    "# Running .info() shows us that \n",
    "\n",
    "df.info()"
   ]
  },
  {
   "cell_type": "markdown",
   "id": "6a719d45",
   "metadata": {},
   "source": [
    "#### Acquire and Summarize Takeaways"
   ]
  },
  {
   "cell_type": "markdown",
   "id": "c7d8e9ac",
   "metadata": {},
   "source": [
    "- Data contains nulls\n",
    "- All columns are float values\n",
    "- bedroomcnt = bathroomcnt   Is that just a coincidence?"
   ]
  },
  {
   "cell_type": "markdown",
   "id": "3f350931",
   "metadata": {},
   "source": [
    "## Prepare the Data"
   ]
  },
  {
   "cell_type": "markdown",
   "id": "ced1f020",
   "metadata": {},
   "source": [
    "### Finding Null Values\n",
    "\n",
    "Let's check out some other ways to find Null values when you are dealing with a larger dataframe, especially one with more attributes and more missing values."
   ]
  },
  {
   "cell_type": "markdown",
   "id": "d888ca03",
   "metadata": {},
   "source": [
    "- np.nan values have a float data type. When a column you expect to have an integer data type reads in as a float, this may be signaling that there is one or more Null values present."
   ]
  },
  {
   "cell_type": "markdown",
   "id": "1c8be8ce",
   "metadata": {},
   "source": [
    "#### `.isnull().sum()`"
   ]
  },
  {
   "cell_type": "code",
   "execution_count": 8,
   "id": "6569ff50",
   "metadata": {},
   "outputs": [
    {
     "data": {
      "text/plain": [
       "bedroomcnt                        11\n",
       "bathroomcnt                       11\n",
       "calculatedfinishedsquarefeet    8484\n",
       "taxvaluedollarcnt                493\n",
       "yearbuilt                       9337\n",
       "taxamount                       4442\n",
       "fips                               0\n",
       "dtype: int64"
      ]
     },
     "execution_count": 8,
     "metadata": {},
     "output_type": "execute_result"
    }
   ],
   "source": [
    "# Find the total number of Null values in each column of our DataFrame.\n",
    "\n",
    "df.isnull().sum()"
   ]
  },
  {
   "cell_type": "code",
   "execution_count": 9,
   "id": "f6cc0d9e",
   "metadata": {},
   "outputs": [
    {
     "data": {
      "text/plain": [
       "bedroomcnt                       True\n",
       "bathroomcnt                      True\n",
       "calculatedfinishedsquarefeet     True\n",
       "taxvaluedollarcnt                True\n",
       "yearbuilt                        True\n",
       "taxamount                        True\n",
       "fips                            False\n",
       "dtype: bool"
      ]
     },
     "execution_count": 9,
     "metadata": {},
     "output_type": "execute_result"
    }
   ],
   "source": [
    "# Check for any Null values in each column of our DataFrame.\n",
    "\n",
    "df.isnull().any()"
   ]
  },
  {
   "cell_type": "code",
   "execution_count": 10,
   "id": "f287e4d3",
   "metadata": {},
   "outputs": [
    {
     "data": {
      "text/plain": [
       "Index(['bedroomcnt', 'bathroomcnt', 'calculatedfinishedsquarefeet',\n",
       "       'taxvaluedollarcnt', 'yearbuilt', 'taxamount'],\n",
       "      dtype='object')"
      ]
     },
     "execution_count": 10,
     "metadata": {},
     "output_type": "execute_result"
    }
   ],
   "source": [
    "# Return the names for any columns in our DataFrame with any Null values.\n",
    "\n",
    "df.columns[df.isnull().any()]"
   ]
  },
  {
   "cell_type": "markdown",
   "id": "2585dc76",
   "metadata": {},
   "source": [
    "### Finding Odd Values\n",
    "Let's find the odd values, including nulls "
   ]
  },
  {
   "cell_type": "code",
   "execution_count": 32,
   "id": "e5a171a2",
   "metadata": {},
   "outputs": [
    {
     "data": {
      "text/plain": [
       "6037.0    1425207\n",
       "6059.0     552057\n",
       "6111.0     162971\n",
       "Name: fips, dtype: int64"
      ]
     },
     "execution_count": 32,
     "metadata": {},
     "output_type": "execute_result"
    }
   ],
   "source": [
    "#What are fips?\n",
    "\n",
    "#FIPS: Federal Information Processing Standards\n",
    "#In this case, it is  a unique county identifier code similar to zip code\n",
    "#Those 3 values in our dataset represent: 6037: Los Angeles, 6059:Orange, 6111: Ventura\n",
    "\n",
    "df.fips.value_counts()"
   ]
  },
  {
   "cell_type": "markdown",
   "id": "dda8cf61",
   "metadata": {},
   "source": [
    "### Drop Null Values\n",
    "\n",
    "Let's drop observations that have any Null values; in this case, we have few compared to the amount of data we have that we can simply drop rows instead of imputing values to save observations.  If we want to fine tune later, we can come back and look at those more closely.  "
   ]
  },
  {
   "cell_type": "code",
   "execution_count": 11,
   "id": "1b062c44",
   "metadata": {},
   "outputs": [
    {
     "name": "stdout",
     "output_type": "stream",
     "text": [
      "<class 'pandas.core.frame.DataFrame'>\n",
      "Int64Index: 2140235 entries, 4 to 2152862\n",
      "Data columns (total 7 columns):\n",
      " #   Column                        Dtype  \n",
      "---  ------                        -----  \n",
      " 0   bedroomcnt                    float64\n",
      " 1   bathroomcnt                   float64\n",
      " 2   calculatedfinishedsquarefeet  float64\n",
      " 3   taxvaluedollarcnt             float64\n",
      " 4   yearbuilt                     float64\n",
      " 5   taxamount                     float64\n",
      " 6   fips                          float64\n",
      "dtypes: float64(7)\n",
      "memory usage: 130.6 MB\n"
     ]
    }
   ],
   "source": [
    "# Drop all rows with any Null values, assign to df, and verify.\n",
    "\n",
    "df = df.dropna()\n",
    "df.info()"
   ]
  },
  {
   "cell_type": "code",
   "execution_count": 13,
   "id": "b4b6fb80",
   "metadata": {},
   "outputs": [
    {
     "data": {
      "text/plain": [
       "bedroomcnt                      0\n",
       "bathroomcnt                     0\n",
       "calculatedfinishedsquarefeet    0\n",
       "taxvaluedollarcnt               0\n",
       "yearbuilt                       0\n",
       "taxamount                       0\n",
       "fips                            0\n",
       "dtype: int64"
      ]
     },
     "execution_count": 13,
     "metadata": {},
     "output_type": "execute_result"
    }
   ],
   "source": [
    "# Check for any Null values afterwards \n",
    "\n",
    "#All nulls were dropped\n",
    "\n",
    "df.isnull().sum()"
   ]
  },
  {
   "cell_type": "markdown",
   "id": "8c2690c6",
   "metadata": {},
   "source": [
    "### Visualize Distributions\n",
    "We can plot histograms and/or boxplots to see the distributions of single variables and check for skewness, outliers, and unit scales. Note, we don't have to split our data before exploring single variables. We DO have to split our data before performing bi- and multi-variate exploration."
   ]
  },
  {
   "cell_type": "markdown",
   "id": "c72a6c75",
   "metadata": {},
   "source": [
    "#### `sns.displot()`\n",
    "\n",
    "We can use Seaborn's `displot` to display the binned values from a column."
   ]
  },
  {
   "cell_type": "code",
   "execution_count": 33,
   "id": "795105c8",
   "metadata": {},
   "outputs": [
    {
     "data": {
      "image/png": "[encoded data removed]",
      "text/plain": [
       "<Figure size 432x288 with 1 Axes>"
      ]
     },
     "metadata": {
      "needs_background": "light"
     },
     "output_type": "display_data"
    }
   ],
   "source": [
    "# The default is bins=10.\n",
    "\n",
    "sns.histplot(x='taxvaluedollarcnt', data=df)\n",
    "\n",
    "plt.title('taxvaluedollarcnt')\n",
    "plt.show()"
   ]
  },
  {
   "cell_type": "code",
   "execution_count": 43,
   "id": "d2506f9f",
   "metadata": {},
   "outputs": [
    {
     "data": {
      "text/plain": [
       "22.0"
      ]
     },
     "execution_count": 43,
     "metadata": {},
     "output_type": "execute_result"
    }
   ],
   "source": [
    "#Plot doesn't look evenly distributed.  Look at the range in values\n",
    "\n",
    "df.taxvaluedollarcnt.min()"
   ]
  },
  {
   "cell_type": "code",
   "execution_count": 38,
   "id": "dab1d639",
   "metadata": {},
   "outputs": [
    {
     "data": {
      "text/plain": [
       "90188462.0"
      ]
     },
     "execution_count": 38,
     "metadata": {},
     "output_type": "execute_result"
    }
   ],
   "source": [
    "\n",
    "df.taxvaluedollarcnt.max()"
   ]
  },
  {
   "cell_type": "code",
   "execution_count": 40,
   "id": "537c487b",
   "metadata": {},
   "outputs": [
    {
     "data": {
      "text/plain": [
       "328296.0"
      ]
     },
     "execution_count": 40,
     "metadata": {},
     "output_type": "execute_result"
    }
   ],
   "source": [
    "\n",
    "df.taxvaluedollarcnt.median()"
   ]
  },
  {
   "cell_type": "markdown",
   "id": "b5c1b743",
   "metadata": {},
   "source": [
    "#### `plt.subplot()` & `.hist()`\n",
    "\n",
    "Here we'll loop through each of the numeric columns of interest and show the distribution of each on a separate subplot. We can use **`enumerate()`** to simplify our code."
   ]
  },
  {
   "cell_type": "code",
   "execution_count": 22,
   "id": "84018187",
   "metadata": {},
   "outputs": [
    {
     "data": {
      "image/png": "[encoded data removed]",
      "text/plain": [
       "<Figure size 1152x216 with 7 Axes>"
      ]
     },
     "metadata": {
      "needs_background": "light"
     },
     "output_type": "display_data"
    }
   ],
   "source": [
    "plt.figure(figsize=(16, 3))\n",
    "\n",
    "# List of columns\n",
    "cols = ['bedroomcnt', 'bathroomcnt','calculatedfinishedsquarefeet','taxvaluedollarcnt',\n",
    "        'yearbuilt','taxamount','fips']\n",
    "\n",
    "for i, col in enumerate(cols):\n",
    "    \n",
    "    # i starts at 0, but plot nos should start at 1\n",
    "    plot_number = i + 1 \n",
    "    \n",
    "    # Create subplot.\n",
    "    plt.subplot(1,7, plot_number)\n",
    "    \n",
    "    # Title with column name.\n",
    "    plt.title(col)\n",
    "    \n",
    "    # Display histogram for column.\n",
    "    df[col].hist(bins=5, edgecolor='black')\n",
    "    \n",
    "    # Hide gridlines.\n",
    "    plt.grid(False)"
   ]
  },
  {
   "cell_type": "markdown",
   "id": "c8f0d5e6",
   "metadata": {},
   "source": [
    "#### `sns.boxplot()`\n",
    "\n",
    "Seaborn's `.boxplot` will default to plotting *all* the numeric variables if we don't specify specific x and y values. "
   ]
  },
  {
   "cell_type": "code",
   "execution_count": 30,
   "id": "e5a3a2f2",
   "metadata": {},
   "outputs": [
    {
     "data": {
      "text/html": [
       "<div>\n",
       "<style scoped>\n",
       "    .dataframe tbody tr th:only-of-type {\n",
       "        vertical-align: middle;\n",
       "    }\n",
       "\n",
       "    .dataframe tbody tr th {\n",
       "        vertical-align: top;\n",
       "    }\n",
       "\n",
       "    .dataframe thead th {\n",
       "        text-align: right;\n",
       "    }\n",
       "</style>\n",
       "<table border=\"1\" class=\"dataframe\">\n",
       "  <thead>\n",
       "    <tr style=\"text-align: right;\">\n",
       "      <th></th>\n",
       "      <th>bedroomcnt</th>\n",
       "      <th>bathroomcnt</th>\n",
       "      <th>calculatedfinishedsquarefeet</th>\n",
       "      <th>taxvaluedollarcnt</th>\n",
       "      <th>yearbuilt</th>\n",
       "      <th>taxamount</th>\n",
       "      <th>fips</th>\n",
       "    </tr>\n",
       "  </thead>\n",
       "  <tbody>\n",
       "    <tr>\n",
       "      <th>count</th>\n",
       "      <td>2.140235e+06</td>\n",
       "      <td>2.140235e+06</td>\n",
       "      <td>2.140235e+06</td>\n",
       "      <td>2.140235e+06</td>\n",
       "      <td>2.140235e+06</td>\n",
       "      <td>2.140235e+06</td>\n",
       "      <td>2.140235e+06</td>\n",
       "    </tr>\n",
       "    <tr>\n",
       "      <th>mean</th>\n",
       "      <td>3.301419e+00</td>\n",
       "      <td>2.240352e+00</td>\n",
       "      <td>1.863194e+03</td>\n",
       "      <td>4.606416e+05</td>\n",
       "      <td>1.960968e+03</td>\n",
       "      <td>5.616711e+03</td>\n",
       "      <td>6.048310e+03</td>\n",
       "    </tr>\n",
       "    <tr>\n",
       "      <th>std</th>\n",
       "      <td>9.325998e-01</td>\n",
       "      <td>9.905489e-01</td>\n",
       "      <td>1.221754e+03</td>\n",
       "      <td>6.771576e+05</td>\n",
       "      <td>2.215056e+01</td>\n",
       "      <td>7.814563e+03</td>\n",
       "      <td>2.034491e+01</td>\n",
       "    </tr>\n",
       "    <tr>\n",
       "      <th>min</th>\n",
       "      <td>0.000000e+00</td>\n",
       "      <td>0.000000e+00</td>\n",
       "      <td>1.000000e+00</td>\n",
       "      <td>2.200000e+01</td>\n",
       "      <td>1.801000e+03</td>\n",
       "      <td>6.340000e+00</td>\n",
       "      <td>6.037000e+03</td>\n",
       "    </tr>\n",
       "    <tr>\n",
       "      <th>25%</th>\n",
       "      <td>3.000000e+00</td>\n",
       "      <td>2.000000e+00</td>\n",
       "      <td>1.258000e+03</td>\n",
       "      <td>1.891660e+05</td>\n",
       "      <td>1.949000e+03</td>\n",
       "      <td>2.540850e+03</td>\n",
       "      <td>6.037000e+03</td>\n",
       "    </tr>\n",
       "    <tr>\n",
       "      <th>50%</th>\n",
       "      <td>3.000000e+00</td>\n",
       "      <td>2.000000e+00</td>\n",
       "      <td>1.623000e+03</td>\n",
       "      <td>3.282960e+05</td>\n",
       "      <td>1.958000e+03</td>\n",
       "      <td>4.111470e+03</td>\n",
       "      <td>6.037000e+03</td>\n",
       "    </tr>\n",
       "    <tr>\n",
       "      <th>75%</th>\n",
       "      <td>4.000000e+00</td>\n",
       "      <td>3.000000e+00</td>\n",
       "      <td>2.208000e+03</td>\n",
       "      <td>5.346060e+05</td>\n",
       "      <td>1.976000e+03</td>\n",
       "      <td>6.411930e+03</td>\n",
       "      <td>6.059000e+03</td>\n",
       "    </tr>\n",
       "    <tr>\n",
       "      <th>max</th>\n",
       "      <td>2.500000e+01</td>\n",
       "      <td>3.200000e+01</td>\n",
       "      <td>9.525760e+05</td>\n",
       "      <td>9.018846e+07</td>\n",
       "      <td>2.016000e+03</td>\n",
       "      <td>1.078102e+06</td>\n",
       "      <td>6.111000e+03</td>\n",
       "    </tr>\n",
       "  </tbody>\n",
       "</table>\n",
       "</div>"
      ],
      "text/plain": [
       "         bedroomcnt   bathroomcnt  calculatedfinishedsquarefeet  \\\n",
       "count  2.140235e+06  2.140235e+06                  2.140235e+06   \n",
       "mean   3.301419e+00  2.240352e+00                  1.863194e+03   \n",
       "std    9.325998e-01  9.905489e-01                  1.221754e+03   \n",
       "min    0.000000e+00  0.000000e+00                  1.000000e+00   \n",
       "25%    3.000000e+00  2.000000e+00                  1.258000e+03   \n",
       "50%    3.000000e+00  2.000000e+00                  1.623000e+03   \n",
       "75%    4.000000e+00  3.000000e+00                  2.208000e+03   \n",
       "max    2.500000e+01  3.200000e+01                  9.525760e+05   \n",
       "\n",
       "       taxvaluedollarcnt     yearbuilt     taxamount          fips  \n",
       "count       2.140235e+06  2.140235e+06  2.140235e+06  2.140235e+06  \n",
       "mean        4.606416e+05  1.960968e+03  5.616711e+03  6.048310e+03  \n",
       "std         6.771576e+05  2.215056e+01  7.814563e+03  2.034491e+01  \n",
       "min         2.200000e+01  1.801000e+03  6.340000e+00  6.037000e+03  \n",
       "25%         1.891660e+05  1.949000e+03  2.540850e+03  6.037000e+03  \n",
       "50%         3.282960e+05  1.958000e+03  4.111470e+03  6.037000e+03  \n",
       "75%         5.346060e+05  1.976000e+03  6.411930e+03  6.059000e+03  \n",
       "max         9.018846e+07  2.016000e+03  1.078102e+06  6.111000e+03  "
      ]
     },
     "execution_count": 30,
     "metadata": {},
     "output_type": "execute_result"
    }
   ],
   "source": [
    "df.describe()"
   ]
  },
  {
   "cell_type": "code",
   "execution_count": 66,
   "id": "3dfd8d57",
   "metadata": {},
   "outputs": [
    {
     "data": {
      "image/png": "[encoded data removed]",
      "text/plain": [
       "<Figure size 432x288 with 1 Axes>"
      ]
     },
     "metadata": {
      "needs_background": "light"
     },
     "output_type": "display_data"
    }
   ],
   "source": [
    "ax1 = df.plot.scatter(x='bedroomcnt',y='taxvaluedollarcnt',c='Navy')"
   ]
  },
  {
   "cell_type": "code",
   "execution_count": 50,
   "id": "779b98d1",
   "metadata": {},
   "outputs": [
    {
     "data": {
      "image/png": "[encoded data removed]",
      "text/plain": [
       "<Figure size 432x288 with 1 Axes>"
      ]
     },
     "metadata": {
      "needs_background": "light"
     },
     "output_type": "display_data"
    }
   ],
   "source": [
    "ax1 = df.plot.scatter(x='calculatedfinishedsquarefeet',y='taxvaluedollarcnt',c='DarkBlue')"
   ]
  },
  {
   "cell_type": "code",
   "execution_count": 51,
   "id": "3e160db8",
   "metadata": {},
   "outputs": [
    {
     "data": {
      "text/plain": [
       "952576.0"
      ]
     },
     "execution_count": 51,
     "metadata": {},
     "output_type": "execute_result"
    }
   ],
   "source": [
    "df.calculatedfinishedsquarefeet.max()"
   ]
  },
  {
   "cell_type": "code",
   "execution_count": 52,
   "id": "894239e1",
   "metadata": {},
   "outputs": [
    {
     "data": {
      "text/plain": [
       "1623.0"
      ]
     },
     "execution_count": 52,
     "metadata": {},
     "output_type": "execute_result"
    }
   ],
   "source": [
    "df.calculatedfinishedsquarefeet.median()"
   ]
  },
  {
   "cell_type": "code",
   "execution_count": null,
   "id": "6018de69",
   "metadata": {},
   "outputs": [],
   "source": [
    "#Outliers Detected!"
   ]
  },
  {
   "cell_type": "code",
   "execution_count": 54,
   "id": "168597aa",
   "metadata": {},
   "outputs": [
    {
     "data": {
      "image/png": "[encoded data removed]",
      "text/plain": [
       "<Figure size 432x288 with 1 Axes>"
      ]
     },
     "metadata": {
      "needs_background": "light"
     },
     "output_type": "display_data"
    }
   ],
   "source": [
    "ax1 = df.plot.scatter(x='bedroomcnt',y='taxvaluedollarcnt',c='DarkBlue')"
   ]
  },
  {
   "cell_type": "code",
   "execution_count": 57,
   "id": "725196d8",
   "metadata": {},
   "outputs": [
    {
     "data": {
      "text/plain": [
       "3.0     962944\n",
       "4.0     633608\n",
       "2.0     334221\n",
       "5.0     150671\n",
       "6.0      25117\n",
       "1.0      22895\n",
       "7.0       4792\n",
       "0.0       4397\n",
       "8.0       1103\n",
       "9.0        290\n",
       "10.0       118\n",
       "11.0        34\n",
       "13.0        15\n",
       "12.0        12\n",
       "14.0         7\n",
       "15.0         5\n",
       "18.0         3\n",
       "16.0         2\n",
       "25.0         1\n",
       "Name: bedroomcnt, dtype: int64"
      ]
     },
     "execution_count": 57,
     "metadata": {},
     "output_type": "execute_result"
    }
   ],
   "source": [
    "df.bedroomcnt.value_counts()"
   ]
  },
  {
   "cell_type": "code",
   "execution_count": 59,
   "id": "84e5e2ff",
   "metadata": {},
   "outputs": [
    {
     "data": {
      "text/plain": [
       "2.00     942463\n",
       "3.00     422398\n",
       "1.00     412582\n",
       "2.50     142827\n",
       "4.00      82039\n",
       "1.50      31157\n",
       "3.50      28464\n",
       "5.00      28306\n",
       "4.50      19474\n",
       "6.00      10717\n",
       "5.50       6201\n",
       "7.00       4381\n",
       "0.00       4274\n",
       "8.00       1681\n",
       "6.50       1330\n",
       "9.00        707\n",
       "7.50        382\n",
       "10.00       322\n",
       "11.00       145\n",
       "8.50        108\n",
       "12.00        73\n",
       "9.50         50\n",
       "13.00        39\n",
       "14.00        25\n",
       "15.00        17\n",
       "0.50         16\n",
       "10.50        14\n",
       "16.00        12\n",
       "18.00         8\n",
       "20.00         6\n",
       "17.00         4\n",
       "1.75          3\n",
       "12.50         3\n",
       "11.50         3\n",
       "14.50         1\n",
       "32.00         1\n",
       "19.50         1\n",
       "19.00         1\n",
       "Name: bathroomcnt, dtype: int64"
      ]
     },
     "execution_count": 59,
     "metadata": {},
     "output_type": "execute_result"
    }
   ],
   "source": [
    "df.bathroomcnt.value_counts()"
   ]
  },
  {
   "cell_type": "code",
   "execution_count": 63,
   "id": "6a73286b",
   "metadata": {},
   "outputs": [
    {
     "data": {
      "text/html": [
       "<div>\n",
       "<style scoped>\n",
       "    .dataframe tbody tr th:only-of-type {\n",
       "        vertical-align: middle;\n",
       "    }\n",
       "\n",
       "    .dataframe tbody tr th {\n",
       "        vertical-align: top;\n",
       "    }\n",
       "\n",
       "    .dataframe thead th {\n",
       "        text-align: right;\n",
       "    }\n",
       "</style>\n",
       "<table border=\"1\" class=\"dataframe\">\n",
       "  <thead>\n",
       "    <tr style=\"text-align: right;\">\n",
       "      <th></th>\n",
       "      <th>bedroomcnt</th>\n",
       "      <th>bathroomcnt</th>\n",
       "      <th>calculatedfinishedsquarefeet</th>\n",
       "      <th>taxvaluedollarcnt</th>\n",
       "      <th>yearbuilt</th>\n",
       "      <th>taxamount</th>\n",
       "      <th>fips</th>\n",
       "    </tr>\n",
       "  </thead>\n",
       "  <tbody>\n",
       "    <tr>\n",
       "      <th>11</th>\n",
       "      <td>0.0</td>\n",
       "      <td>0.0</td>\n",
       "      <td>1200.0</td>\n",
       "      <td>5328.0</td>\n",
       "      <td>1972.0</td>\n",
       "      <td>91.60</td>\n",
       "      <td>6037.0</td>\n",
       "    </tr>\n",
       "    <tr>\n",
       "      <th>14</th>\n",
       "      <td>0.0</td>\n",
       "      <td>0.0</td>\n",
       "      <td>171.0</td>\n",
       "      <td>6920.0</td>\n",
       "      <td>1973.0</td>\n",
       "      <td>255.17</td>\n",
       "      <td>6037.0</td>\n",
       "    </tr>\n",
       "    <tr>\n",
       "      <th>15</th>\n",
       "      <td>0.0</td>\n",
       "      <td>0.0</td>\n",
       "      <td>203.0</td>\n",
       "      <td>14166.0</td>\n",
       "      <td>1960.0</td>\n",
       "      <td>163.79</td>\n",
       "      <td>6037.0</td>\n",
       "    </tr>\n",
       "    <tr>\n",
       "      <th>866</th>\n",
       "      <td>0.0</td>\n",
       "      <td>0.0</td>\n",
       "      <td>220.0</td>\n",
       "      <td>13840.0</td>\n",
       "      <td>1988.0</td>\n",
       "      <td>327.80</td>\n",
       "      <td>6037.0</td>\n",
       "    </tr>\n",
       "    <tr>\n",
       "      <th>2306</th>\n",
       "      <td>0.0</td>\n",
       "      <td>0.0</td>\n",
       "      <td>1776.0</td>\n",
       "      <td>79574.0</td>\n",
       "      <td>1989.0</td>\n",
       "      <td>1137.90</td>\n",
       "      <td>6037.0</td>\n",
       "    </tr>\n",
       "    <tr>\n",
       "      <th>...</th>\n",
       "      <td>...</td>\n",
       "      <td>...</td>\n",
       "      <td>...</td>\n",
       "      <td>...</td>\n",
       "      <td>...</td>\n",
       "      <td>...</td>\n",
       "      <td>...</td>\n",
       "    </tr>\n",
       "    <tr>\n",
       "      <th>2144648</th>\n",
       "      <td>0.0</td>\n",
       "      <td>0.0</td>\n",
       "      <td>936.0</td>\n",
       "      <td>33811.0</td>\n",
       "      <td>1961.0</td>\n",
       "      <td>536.25</td>\n",
       "      <td>6037.0</td>\n",
       "    </tr>\n",
       "    <tr>\n",
       "      <th>2146189</th>\n",
       "      <td>0.0</td>\n",
       "      <td>0.0</td>\n",
       "      <td>330.0</td>\n",
       "      <td>16311.0</td>\n",
       "      <td>1925.0</td>\n",
       "      <td>297.36</td>\n",
       "      <td>6037.0</td>\n",
       "    </tr>\n",
       "    <tr>\n",
       "      <th>2146660</th>\n",
       "      <td>0.0</td>\n",
       "      <td>0.0</td>\n",
       "      <td>676.0</td>\n",
       "      <td>234580.0</td>\n",
       "      <td>1922.0</td>\n",
       "      <td>3013.57</td>\n",
       "      <td>6037.0</td>\n",
       "    </tr>\n",
       "    <tr>\n",
       "      <th>2149054</th>\n",
       "      <td>0.0</td>\n",
       "      <td>0.0</td>\n",
       "      <td>938.0</td>\n",
       "      <td>56733.0</td>\n",
       "      <td>1978.0</td>\n",
       "      <td>986.86</td>\n",
       "      <td>6037.0</td>\n",
       "    </tr>\n",
       "    <tr>\n",
       "      <th>2152505</th>\n",
       "      <td>0.0</td>\n",
       "      <td>0.0</td>\n",
       "      <td>240.0</td>\n",
       "      <td>31234.0</td>\n",
       "      <td>1942.0</td>\n",
       "      <td>414.04</td>\n",
       "      <td>6037.0</td>\n",
       "    </tr>\n",
       "  </tbody>\n",
       "</table>\n",
       "<p>3345 rows × 7 columns</p>\n",
       "</div>"
      ],
      "text/plain": [
       "         bedroomcnt  bathroomcnt  calculatedfinishedsquarefeet  \\\n",
       "11              0.0          0.0                        1200.0   \n",
       "14              0.0          0.0                         171.0   \n",
       "15              0.0          0.0                         203.0   \n",
       "866             0.0          0.0                         220.0   \n",
       "2306            0.0          0.0                        1776.0   \n",
       "...             ...          ...                           ...   \n",
       "2144648         0.0          0.0                         936.0   \n",
       "2146189         0.0          0.0                         330.0   \n",
       "2146660         0.0          0.0                         676.0   \n",
       "2149054         0.0          0.0                         938.0   \n",
       "2152505         0.0          0.0                         240.0   \n",
       "\n",
       "         taxvaluedollarcnt  yearbuilt  taxamount    fips  \n",
       "11                  5328.0     1972.0      91.60  6037.0  \n",
       "14                  6920.0     1973.0     255.17  6037.0  \n",
       "15                 14166.0     1960.0     163.79  6037.0  \n",
       "866                13840.0     1988.0     327.80  6037.0  \n",
       "2306               79574.0     1989.0    1137.90  6037.0  \n",
       "...                    ...        ...        ...     ...  \n",
       "2144648            33811.0     1961.0     536.25  6037.0  \n",
       "2146189            16311.0     1925.0     297.36  6037.0  \n",
       "2146660           234580.0     1922.0    3013.57  6037.0  \n",
       "2149054            56733.0     1978.0     986.86  6037.0  \n",
       "2152505            31234.0     1942.0     414.04  6037.0  \n",
       "\n",
       "[3345 rows x 7 columns]"
      ]
     },
     "execution_count": 63,
     "metadata": {},
     "output_type": "execute_result"
    }
   ],
   "source": [
    "# Check to see how many are listed with no bedrooms and no bathrooms \n",
    "# Should they be considered single family residential homes?\n",
    "no_bed_no_bath = df[(df.bedroomcnt == 0) & (df.bathroomcnt == 0 )]\n",
    "no_bed_no_bath"
   ]
  },
  {
   "cell_type": "markdown",
   "id": "ca33586f",
   "metadata": {},
   "source": [
    "### Takeaways:\n",
    "- calculatedfinishedsquarefeet contains outliers; refer to chart above\n",
    "- 4274 contain 0 bathrooms --> drop those?\n",
    "- 4397 contain 0 bedrooms --> drop those?\n",
    "- 3345 contain 0 beds and 0 baths --> drop those?"
   ]
  },
  {
   "cell_type": "markdown",
   "id": "a79b8e0d",
   "metadata": {},
   "source": [
    "### Function to Remove Outliers per John Salas"
   ]
  },
  {
   "cell_type": "code",
   "execution_count": 70,
   "id": "35839c13",
   "metadata": {},
   "outputs": [],
   "source": [
    "def remove_outliers(df, k, col_list):\n",
    "    ''' remove outliers from a list of columns in a dataframe \n",
    "        and return that dataframe\n",
    "    '''\n",
    "    \n",
    "    for col in col_list:\n",
    "\n",
    "        q1, q3 = df[col].quantile([.25, .75])  # get quartiles\n",
    "        \n",
    "        iqr = q3 - q1   # calculate interquartile range\n",
    "        \n",
    "        upper_bound = q3 + k * iqr   # get upper bound\n",
    "        lower_bound = q1 - k * iqr   # get lower bound\n",
    "\n",
    "        # return dataframe without outliers\n",
    "        \n",
    "        df = df[(df[col] > lower_bound) & (df[col] < upper_bound)]\n",
    "        \n",
    "    return df"
   ]
  },
  {
   "cell_type": "code",
   "execution_count": 71,
   "id": "1eb0028e",
   "metadata": {},
   "outputs": [
    {
     "data": {
      "text/plain": [
       "Index(['bedroomcnt', 'bathroomcnt', 'calculatedfinishedsquarefeet',\n",
       "       'taxvaluedollarcnt', 'yearbuilt', 'taxamount', 'fips'],\n",
       "      dtype='object')"
      ]
     },
     "execution_count": 71,
     "metadata": {},
     "output_type": "execute_result"
    }
   ],
   "source": [
    "df.columns"
   ]
  },
  {
   "cell_type": "code",
   "execution_count": 72,
   "id": "9ca99230",
   "metadata": {},
   "outputs": [
    {
     "data": {
      "text/plain": [
       "(2140235, 7)"
      ]
     },
     "execution_count": 72,
     "metadata": {},
     "output_type": "execute_result"
    }
   ],
   "source": [
    "df.shape"
   ]
  },
  {
   "cell_type": "code",
   "execution_count": 73,
   "id": "6f6d7a65",
   "metadata": {},
   "outputs": [],
   "source": [
    "  df = remove_outliers(df, 1.5, ['calculatedfinishedsquarefeet',\n",
    "       'taxvaluedollarcnt', 'taxamount','bedroomcnt', 'bathroomcnt'] )"
   ]
  },
  {
   "cell_type": "code",
   "execution_count": null,
   "id": "90c48366",
   "metadata": {},
   "outputs": [],
   "source": [
    "#Let's look at the data after outliers were removed per the function\n",
    "\n",
    "# 2,140,235 - 1,434,769 = 705,466 outliers removed - Is this too much? Change my K value?"
   ]
  },
  {
   "cell_type": "code",
   "execution_count": 74,
   "id": "e89adffa",
   "metadata": {},
   "outputs": [
    {
     "data": {
      "text/plain": [
       "(1434769, 7)"
      ]
     },
     "execution_count": 74,
     "metadata": {},
     "output_type": "execute_result"
    }
   ],
   "source": [
    "df.shape"
   ]
  },
  {
   "cell_type": "code",
   "execution_count": 75,
   "id": "397861af",
   "metadata": {},
   "outputs": [
    {
     "data": {
      "image/png": "[encoded data removed]",
      "text/plain": [
       "<Figure size 432x288 with 1 Axes>"
      ]
     },
     "metadata": {
      "needs_background": "light"
     },
     "output_type": "display_data"
    }
   ],
   "source": [
    "ax1 = df.plot.scatter(x='bedroomcnt',y='taxvaluedollarcnt',c='Navy')\n",
    "\n",
    "#Number of bedrooms are now only up to 5 with outliers removed"
   ]
  },
  {
   "cell_type": "code",
   "execution_count": 76,
   "id": "009075ac",
   "metadata": {},
   "outputs": [
    {
     "data": {
      "image/png": "[encoded data removed]",
      "text/plain": [
       "<Figure size 432x288 with 1 Axes>"
      ]
     },
     "metadata": {
      "needs_background": "light"
     },
     "output_type": "display_data"
    }
   ],
   "source": [
    "ax1 = df.plot.scatter(x='calculatedfinishedsquarefeet',y='taxvaluedollarcnt',c='DarkBlue')\n",
    "\n",
    "#Square feet is only up to a little over 3500 sq ft after outliers removed"
   ]
  },
  {
   "cell_type": "code",
   "execution_count": 78,
   "id": "88e2dc12",
   "metadata": {},
   "outputs": [
    {
     "data": {
      "image/png": "[encoded data removed]",
      "text/plain": [
       "<Figure size 432x288 with 1 Axes>"
      ]
     },
     "metadata": {
      "needs_background": "light"
     },
     "output_type": "display_data"
    }
   ],
   "source": [
    "ax1 = df.plot.scatter(x='bathroomcnt',y='taxvaluedollarcnt',c='DarkBlue')\n",
    "\n",
    "# Bathrooms only go up to 3 after outliers removed"
   ]
  },
  {
   "cell_type": "code",
   "execution_count": 85,
   "id": "b36d1576",
   "metadata": {},
   "outputs": [
    {
     "data": {
      "text/html": [
       "<div>\n",
       "<style scoped>\n",
       "    .dataframe tbody tr th:only-of-type {\n",
       "        vertical-align: middle;\n",
       "    }\n",
       "\n",
       "    .dataframe tbody tr th {\n",
       "        vertical-align: top;\n",
       "    }\n",
       "\n",
       "    .dataframe thead th {\n",
       "        text-align: right;\n",
       "    }\n",
       "</style>\n",
       "<table border=\"1\" class=\"dataframe\">\n",
       "  <thead>\n",
       "    <tr style=\"text-align: right;\">\n",
       "      <th></th>\n",
       "      <th>bedroomcnt</th>\n",
       "      <th>bathroomcnt</th>\n",
       "      <th>calculatedfinishedsquarefeet</th>\n",
       "      <th>taxvaluedollarcnt</th>\n",
       "      <th>yearbuilt</th>\n",
       "      <th>taxamount</th>\n",
       "      <th>fips</th>\n",
       "    </tr>\n",
       "  </thead>\n",
       "  <tbody>\n",
       "    <tr>\n",
       "      <th>min</th>\n",
       "      <td>2.0</td>\n",
       "      <td>1.5</td>\n",
       "      <td>2.0</td>\n",
       "      <td>22.0</td>\n",
       "      <td>1801.0</td>\n",
       "      <td>16.48</td>\n",
       "      <td>6037.0</td>\n",
       "    </tr>\n",
       "    <tr>\n",
       "      <th>max</th>\n",
       "      <td>5.0</td>\n",
       "      <td>3.0</td>\n",
       "      <td>3632.0</td>\n",
       "      <td>974403.0</td>\n",
       "      <td>2016.0</td>\n",
       "      <td>10546.45</td>\n",
       "      <td>6111.0</td>\n",
       "    </tr>\n",
       "  </tbody>\n",
       "</table>\n",
       "</div>"
      ],
      "text/plain": [
       "     bedroomcnt  bathroomcnt  calculatedfinishedsquarefeet  taxvaluedollarcnt  \\\n",
       "min         2.0          1.5                           2.0               22.0   \n",
       "max         5.0          3.0                        3632.0           974403.0   \n",
       "\n",
       "     yearbuilt  taxamount    fips  \n",
       "min     1801.0      16.48  6037.0  \n",
       "max     2016.0   10546.45  6111.0  "
      ]
     },
     "execution_count": 85,
     "metadata": {},
     "output_type": "execute_result"
    }
   ],
   "source": [
    "def minMax(x):\n",
    "    return pd.Series(index=['min','max'],data=[x.min(),x.max()])\n",
    "\n",
    "\n",
    "df.apply(minMax)"
   ]
  },
  {
   "cell_type": "code",
   "execution_count": 88,
   "id": "5df68689",
   "metadata": {},
   "outputs": [
    {
     "data": {
      "image/png": "[encoded data removed]",
      "text/plain": [
       "<Figure size 432x288 with 1 Axes>"
      ]
     },
     "metadata": {
      "needs_background": "light"
     },
     "output_type": "display_data"
    }
   ],
   "source": [
    "# The default is bins=10.\n",
    "\n",
    "sns.histplot(x='taxvaluedollarcnt', data=df)\n",
    "\n",
    "plt.title('taxvaluedollarcnt')\n",
    "plt.show()"
   ]
  },
  {
   "cell_type": "code",
   "execution_count": 89,
   "id": "5977e712",
   "metadata": {},
   "outputs": [
    {
     "data": {
      "image/png": "[encoded data removed]",
      "text/plain": [
       "<Figure size 1152x216 with 7 Axes>"
      ]
     },
     "metadata": {
      "needs_background": "light"
     },
     "output_type": "display_data"
    }
   ],
   "source": [
    "plt.figure(figsize=(16, 3))\n",
    "\n",
    "# List of columns\n",
    "cols = ['bedroomcnt', 'bathroomcnt','calculatedfinishedsquarefeet','taxvaluedollarcnt',\n",
    "        'yearbuilt','taxamount','fips']\n",
    "\n",
    "for i, col in enumerate(cols):\n",
    "    \n",
    "    # i starts at 0, but plot nos should start at 1\n",
    "    plot_number = i + 1 \n",
    "    \n",
    "    # Create subplot.\n",
    "    plt.subplot(1,7, plot_number)\n",
    "    \n",
    "    # Title with column name.\n",
    "    plt.title(col)\n",
    "    \n",
    "    # Display histogram for column.\n",
    "    df[col].hist(bins=5, edgecolor='black')\n",
    "    \n",
    "    # Hide gridlines.\n",
    "    plt.grid(False)"
   ]
  },
  {
   "cell_type": "code",
   "execution_count": null,
   "id": "24a41ef0",
   "metadata": {},
   "outputs": [],
   "source": []
  }
 ],
 "metadata": {
  "kernelspec": {
   "display_name": "Python 3",
   "language": "python",
   "name": "python3"
  },
  "language_info": {
   "codemirror_mode": {
    "name": "ipython",
    "version": 3
   },
   "file_extension": ".py",
   "mimetype": "text/x-python",
   "name": "python",
   "nbconvert_exporter": "python",
   "pygments_lexer": "ipython3",
   "version": "3.8.8"
  }
 },
 "nbformat": 4,
 "nbformat_minor": 5
}
