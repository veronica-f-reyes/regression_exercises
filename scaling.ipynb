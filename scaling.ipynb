{
 "cells": [
  {
   "cell_type": "code",
   "execution_count": 1,
   "id": "a2e10528",
   "metadata": {},
   "outputs": [],
   "source": [
    "import warnings\n",
    "warnings.filterwarnings(\"ignore\")\n",
    "\n",
    "import matplotlib.pyplot as plt\n",
    "import numpy as np\n",
    "from scipy import stats\n",
    "import sklearn.preprocessing\n",
    "from sklearn.model_selection import train_test_split\n",
    "import pandas as pd\n",
    "import seaborn as sns\n",
    "\n",
    "import wrangle"
   ]
  },
  {
   "cell_type": "code",
   "execution_count": 2,
   "id": "fa6de7e5",
   "metadata": {},
   "outputs": [
    {
     "data": {
      "image/png": "[encoded data removed]",
      "text/plain": [
       "<Figure size 1152x216 with 6 Axes>"
      ]
     },
     "metadata": {
      "needs_background": "light"
     },
     "output_type": "display_data"
    }
   ],
   "source": [
    "df = wrangle.wrangle_zillow()"
   ]
  },
  {
   "cell_type": "code",
   "execution_count": 3,
   "id": "c694448f",
   "metadata": {},
   "outputs": [
    {
     "data": {
      "text/plain": [
       "pandas.core.frame.DataFrame"
      ]
     },
     "execution_count": 3,
     "metadata": {},
     "output_type": "execute_result"
    }
   ],
   "source": [
    "type(df)"
   ]
  },
  {
   "cell_type": "code",
   "execution_count": 4,
   "id": "9691c0dd",
   "metadata": {},
   "outputs": [
    {
     "data": {
      "text/html": [
       "<div>\n",
       "<style scoped>\n",
       "    .dataframe tbody tr th:only-of-type {\n",
       "        vertical-align: middle;\n",
       "    }\n",
       "\n",
       "    .dataframe tbody tr th {\n",
       "        vertical-align: top;\n",
       "    }\n",
       "\n",
       "    .dataframe thead th {\n",
       "        text-align: right;\n",
       "    }\n",
       "</style>\n",
       "<table border=\"1\" class=\"dataframe\">\n",
       "  <thead>\n",
       "    <tr style=\"text-align: right;\">\n",
       "      <th></th>\n",
       "      <th>bedrooms</th>\n",
       "      <th>bathrooms</th>\n",
       "      <th>sq_footage</th>\n",
       "      <th>tax_value</th>\n",
       "      <th>yr_built</th>\n",
       "      <th>taxamount</th>\n",
       "      <th>fips</th>\n",
       "    </tr>\n",
       "  </thead>\n",
       "  <tbody>\n",
       "    <tr>\n",
       "      <th>4</th>\n",
       "      <td>4.0</td>\n",
       "      <td>2.0</td>\n",
       "      <td>3633.0</td>\n",
       "      <td>296425.0</td>\n",
       "      <td>2005.0</td>\n",
       "      <td>6941.39</td>\n",
       "      <td>6037.0</td>\n",
       "    </tr>\n",
       "    <tr>\n",
       "      <th>7</th>\n",
       "      <td>3.0</td>\n",
       "      <td>2.0</td>\n",
       "      <td>2077.0</td>\n",
       "      <td>646760.0</td>\n",
       "      <td>1926.0</td>\n",
       "      <td>7924.68</td>\n",
       "      <td>6037.0</td>\n",
       "    </tr>\n",
       "    <tr>\n",
       "      <th>19</th>\n",
       "      <td>3.0</td>\n",
       "      <td>2.0</td>\n",
       "      <td>1300.0</td>\n",
       "      <td>233266.0</td>\n",
       "      <td>1950.0</td>\n",
       "      <td>3110.99</td>\n",
       "      <td>6037.0</td>\n",
       "    </tr>\n",
       "    <tr>\n",
       "      <th>20</th>\n",
       "      <td>3.0</td>\n",
       "      <td>2.0</td>\n",
       "      <td>1222.0</td>\n",
       "      <td>290492.0</td>\n",
       "      <td>1951.0</td>\n",
       "      <td>3870.25</td>\n",
       "      <td>6037.0</td>\n",
       "    </tr>\n",
       "    <tr>\n",
       "      <th>23</th>\n",
       "      <td>3.0</td>\n",
       "      <td>2.5</td>\n",
       "      <td>1821.0</td>\n",
       "      <td>537949.0</td>\n",
       "      <td>2013.0</td>\n",
       "      <td>6173.72</td>\n",
       "      <td>6059.0</td>\n",
       "    </tr>\n",
       "  </tbody>\n",
       "</table>\n",
       "</div>"
      ],
      "text/plain": [
       "    bedrooms  bathrooms  sq_footage  tax_value  yr_built  taxamount    fips\n",
       "4        4.0        2.0      3633.0   296425.0    2005.0    6941.39  6037.0\n",
       "7        3.0        2.0      2077.0   646760.0    1926.0    7924.68  6037.0\n",
       "19       3.0        2.0      1300.0   233266.0    1950.0    3110.99  6037.0\n",
       "20       3.0        2.0      1222.0   290492.0    1951.0    3870.25  6037.0\n",
       "23       3.0        2.5      1821.0   537949.0    2013.0    6173.72  6059.0"
      ]
     },
     "execution_count": 4,
     "metadata": {},
     "output_type": "execute_result"
    }
   ],
   "source": [
    "df.head()"
   ]
  },
  {
   "cell_type": "code",
   "execution_count": 5,
   "id": "13cc02f2",
   "metadata": {},
   "outputs": [
    {
     "data": {
      "text/html": [
       "<div>\n",
       "<style scoped>\n",
       "    .dataframe tbody tr th:only-of-type {\n",
       "        vertical-align: middle;\n",
       "    }\n",
       "\n",
       "    .dataframe tbody tr th {\n",
       "        vertical-align: top;\n",
       "    }\n",
       "\n",
       "    .dataframe thead th {\n",
       "        text-align: right;\n",
       "    }\n",
       "</style>\n",
       "<table border=\"1\" class=\"dataframe\">\n",
       "  <thead>\n",
       "    <tr style=\"text-align: right;\">\n",
       "      <th></th>\n",
       "      <th>bedrooms</th>\n",
       "      <th>bathrooms</th>\n",
       "      <th>sq_footage</th>\n",
       "      <th>tax_value</th>\n",
       "      <th>yr_built</th>\n",
       "      <th>taxamount</th>\n",
       "      <th>fips</th>\n",
       "    </tr>\n",
       "  </thead>\n",
       "  <tbody>\n",
       "    <tr>\n",
       "      <th>min</th>\n",
       "      <td>2.0</td>\n",
       "      <td>1.5</td>\n",
       "      <td>2.0</td>\n",
       "      <td>22.0</td>\n",
       "      <td>1801.0</td>\n",
       "      <td>16.48</td>\n",
       "      <td>6037.0</td>\n",
       "    </tr>\n",
       "    <tr>\n",
       "      <th>max</th>\n",
       "      <td>5.0</td>\n",
       "      <td>3.0</td>\n",
       "      <td>4107.0</td>\n",
       "      <td>1164536.0</td>\n",
       "      <td>2016.0</td>\n",
       "      <td>12686.52</td>\n",
       "      <td>6111.0</td>\n",
       "    </tr>\n",
       "  </tbody>\n",
       "</table>\n",
       "</div>"
      ],
      "text/plain": [
       "     bedrooms  bathrooms  sq_footage  tax_value  yr_built  taxamount    fips\n",
       "min       2.0        1.5         2.0       22.0    1801.0      16.48  6037.0\n",
       "max       5.0        3.0      4107.0  1164536.0    2016.0   12686.52  6111.0"
      ]
     },
     "execution_count": 5,
     "metadata": {},
     "output_type": "execute_result"
    }
   ],
   "source": [
    "df.apply(wrangle.minMax)"
   ]
  },
  {
   "cell_type": "code",
   "execution_count": 6,
   "id": "519f67aa",
   "metadata": {},
   "outputs": [
    {
     "data": {
      "text/plain": [
       "(1475147, 7)"
      ]
     },
     "execution_count": 6,
     "metadata": {},
     "output_type": "execute_result"
    }
   ],
   "source": [
    "df.shape"
   ]
  },
  {
   "cell_type": "code",
   "execution_count": 7,
   "id": "ac41f4de",
   "metadata": {},
   "outputs": [],
   "source": [
    "#Split data into train, validate and test using split_data function in wrangle.py\n",
    "train, validate, test = wrangle.split_data(df)"
   ]
  },
  {
   "cell_type": "code",
   "execution_count": 8,
   "id": "d97ba36f",
   "metadata": {},
   "outputs": [
    {
     "data": {
      "text/plain": [
       "(826081, 7)"
      ]
     },
     "execution_count": 8,
     "metadata": {},
     "output_type": "execute_result"
    }
   ],
   "source": [
    "train.shape"
   ]
  },
  {
   "cell_type": "code",
   "execution_count": 9,
   "id": "1d8c0e6d",
   "metadata": {},
   "outputs": [
    {
     "data": {
      "text/html": [
       "<div>\n",
       "<style scoped>\n",
       "    .dataframe tbody tr th:only-of-type {\n",
       "        vertical-align: middle;\n",
       "    }\n",
       "\n",
       "    .dataframe tbody tr th {\n",
       "        vertical-align: top;\n",
       "    }\n",
       "\n",
       "    .dataframe thead th {\n",
       "        text-align: right;\n",
       "    }\n",
       "</style>\n",
       "<table border=\"1\" class=\"dataframe\">\n",
       "  <thead>\n",
       "    <tr style=\"text-align: right;\">\n",
       "      <th></th>\n",
       "      <th>bedrooms</th>\n",
       "      <th>bathrooms</th>\n",
       "      <th>sq_footage</th>\n",
       "      <th>tax_value</th>\n",
       "      <th>yr_built</th>\n",
       "      <th>taxamount</th>\n",
       "      <th>fips</th>\n",
       "    </tr>\n",
       "  </thead>\n",
       "  <tbody>\n",
       "    <tr>\n",
       "      <th>278237</th>\n",
       "      <td>3.0</td>\n",
       "      <td>2.0</td>\n",
       "      <td>1644.0</td>\n",
       "      <td>405574.0</td>\n",
       "      <td>1962.0</td>\n",
       "      <td>4833.68</td>\n",
       "      <td>6059.0</td>\n",
       "    </tr>\n",
       "    <tr>\n",
       "      <th>245132</th>\n",
       "      <td>3.0</td>\n",
       "      <td>2.0</td>\n",
       "      <td>1312.0</td>\n",
       "      <td>366057.0</td>\n",
       "      <td>1957.0</td>\n",
       "      <td>4372.48</td>\n",
       "      <td>6059.0</td>\n",
       "    </tr>\n",
       "    <tr>\n",
       "      <th>1369940</th>\n",
       "      <td>3.0</td>\n",
       "      <td>3.0</td>\n",
       "      <td>1524.0</td>\n",
       "      <td>177000.0</td>\n",
       "      <td>1990.0</td>\n",
       "      <td>3295.43</td>\n",
       "      <td>6037.0</td>\n",
       "    </tr>\n",
       "    <tr>\n",
       "      <th>1533627</th>\n",
       "      <td>3.0</td>\n",
       "      <td>2.0</td>\n",
       "      <td>1696.0</td>\n",
       "      <td>681822.0</td>\n",
       "      <td>1962.0</td>\n",
       "      <td>7983.41</td>\n",
       "      <td>6037.0</td>\n",
       "    </tr>\n",
       "    <tr>\n",
       "      <th>181419</th>\n",
       "      <td>3.0</td>\n",
       "      <td>2.0</td>\n",
       "      <td>1092.0</td>\n",
       "      <td>251452.0</td>\n",
       "      <td>1972.0</td>\n",
       "      <td>3285.26</td>\n",
       "      <td>6059.0</td>\n",
       "    </tr>\n",
       "    <tr>\n",
       "      <th>...</th>\n",
       "      <td>...</td>\n",
       "      <td>...</td>\n",
       "      <td>...</td>\n",
       "      <td>...</td>\n",
       "      <td>...</td>\n",
       "      <td>...</td>\n",
       "      <td>...</td>\n",
       "    </tr>\n",
       "    <tr>\n",
       "      <th>526708</th>\n",
       "      <td>2.0</td>\n",
       "      <td>1.5</td>\n",
       "      <td>1234.0</td>\n",
       "      <td>72525.0</td>\n",
       "      <td>1964.0</td>\n",
       "      <td>752.62</td>\n",
       "      <td>6059.0</td>\n",
       "    </tr>\n",
       "    <tr>\n",
       "      <th>169619</th>\n",
       "      <td>4.0</td>\n",
       "      <td>2.0</td>\n",
       "      <td>1251.0</td>\n",
       "      <td>242527.0</td>\n",
       "      <td>1955.0</td>\n",
       "      <td>2981.02</td>\n",
       "      <td>6059.0</td>\n",
       "    </tr>\n",
       "    <tr>\n",
       "      <th>838674</th>\n",
       "      <td>3.0</td>\n",
       "      <td>2.5</td>\n",
       "      <td>2248.0</td>\n",
       "      <td>323245.0</td>\n",
       "      <td>1976.0</td>\n",
       "      <td>3385.82</td>\n",
       "      <td>6059.0</td>\n",
       "    </tr>\n",
       "    <tr>\n",
       "      <th>1566281</th>\n",
       "      <td>4.0</td>\n",
       "      <td>3.0</td>\n",
       "      <td>1497.0</td>\n",
       "      <td>493659.0</td>\n",
       "      <td>1949.0</td>\n",
       "      <td>5985.71</td>\n",
       "      <td>6037.0</td>\n",
       "    </tr>\n",
       "    <tr>\n",
       "      <th>1074973</th>\n",
       "      <td>4.0</td>\n",
       "      <td>2.0</td>\n",
       "      <td>1654.0</td>\n",
       "      <td>319386.0</td>\n",
       "      <td>1964.0</td>\n",
       "      <td>3741.66</td>\n",
       "      <td>6059.0</td>\n",
       "    </tr>\n",
       "  </tbody>\n",
       "</table>\n",
       "<p>826081 rows × 7 columns</p>\n",
       "</div>"
      ],
      "text/plain": [
       "         bedrooms  bathrooms  sq_footage  tax_value  yr_built  taxamount  \\\n",
       "278237        3.0        2.0      1644.0   405574.0    1962.0    4833.68   \n",
       "245132        3.0        2.0      1312.0   366057.0    1957.0    4372.48   \n",
       "1369940       3.0        3.0      1524.0   177000.0    1990.0    3295.43   \n",
       "1533627       3.0        2.0      1696.0   681822.0    1962.0    7983.41   \n",
       "181419        3.0        2.0      1092.0   251452.0    1972.0    3285.26   \n",
       "...           ...        ...         ...        ...       ...        ...   \n",
       "526708        2.0        1.5      1234.0    72525.0    1964.0     752.62   \n",
       "169619        4.0        2.0      1251.0   242527.0    1955.0    2981.02   \n",
       "838674        3.0        2.5      2248.0   323245.0    1976.0    3385.82   \n",
       "1566281       4.0        3.0      1497.0   493659.0    1949.0    5985.71   \n",
       "1074973       4.0        2.0      1654.0   319386.0    1964.0    3741.66   \n",
       "\n",
       "           fips  \n",
       "278237   6059.0  \n",
       "245132   6059.0  \n",
       "1369940  6037.0  \n",
       "1533627  6037.0  \n",
       "181419   6059.0  \n",
       "...         ...  \n",
       "526708   6059.0  \n",
       "169619   6059.0  \n",
       "838674   6059.0  \n",
       "1566281  6037.0  \n",
       "1074973  6059.0  \n",
       "\n",
       "[826081 rows x 7 columns]"
      ]
     },
     "execution_count": 9,
     "metadata": {},
     "output_type": "execute_result"
    }
   ],
   "source": [
    "train"
   ]
  },
  {
   "cell_type": "markdown",
   "id": "6fdf0fb9",
   "metadata": {},
   "source": [
    "### Min-Max Scaling"
   ]
  },
  {
   "cell_type": "code",
   "execution_count": 11,
   "id": "f75ca1e4",
   "metadata": {},
   "outputs": [
    {
     "data": {
      "text/plain": [
       "Text(0.5, 1.0, 'Scaled')"
      ]
     },
     "execution_count": 11,
     "metadata": {},
     "output_type": "execute_result"
    },
    {
     "data": {
      "image/png": "[encoded data removed]",
      "text/plain": [
       "<Figure size 936x432 with 2 Axes>"
      ]
     },
     "metadata": {
      "needs_background": "light"
     },
     "output_type": "display_data"
    }
   ],
   "source": [
    "# 1. create the object\n",
    "scaler = sklearn.preprocessing.MinMaxScaler()\n",
    "# Note that we only call .fit with the training data,\n",
    "# but we use .transform to apply the scaling to all the data splits.\n",
    "\n",
    "# 2. fit the object (learn the min and max value)\n",
    "scaler.fit(train)\n",
    "\n",
    "# 3. use the object (use the min, max to do the transformation)\n",
    "train_scaled = scaler.transform(train)\n",
    "validate_scaled = scaler.transform(validate)\n",
    "test_scaled = scaler.transform(test)\n",
    "\n",
    "plt.figure(figsize=(13, 6))\n",
    "plt.subplot(121)\n",
    "plt.hist(train, bins=25, ec='black')\n",
    "plt.title('Original')\n",
    "plt.subplot(122)\n",
    "plt.hist(train_scaled, bins=25, ec='black')\n",
    "plt.title('Scaled')"
   ]
  },
  {
   "cell_type": "code",
   "execution_count": 12,
   "id": "0160d731",
   "metadata": {},
   "outputs": [
    {
     "data": {
      "text/plain": [
       "array([[1.10000000e+01, 4.50000000e+00, 6.74533500e+06, ...,\n",
       "        2.98127000e+05, 6.12429354e+07, 4.54403000e+05],\n",
       "       [1.10000000e+01, 4.50000000e+00, 5.38313900e+06, ...,\n",
       "        2.97372000e+05, 5.53995130e+07, 4.54403000e+05],\n",
       "       [1.10000000e+01, 6.00000000e+00, 6.25297500e+06, ...,\n",
       "        3.02355000e+05, 4.17532464e+07, 4.52775000e+05],\n",
       "       ...,\n",
       "       [1.10000000e+01, 5.25000000e+00, 9.22354700e+06, ...,\n",
       "        3.00241000e+05, 4.28984913e+07, 4.54403000e+05],\n",
       "       [1.40000000e+01, 6.00000000e+00, 6.14219400e+06, ...,\n",
       "        2.96164000e+05, 7.58392016e+07, 4.52775000e+05],\n",
       "       [1.40000000e+01, 4.50000000e+00, 6.78636500e+06, ...,\n",
       "        2.98429000e+05, 4.74069983e+07, 4.54403000e+05]])"
      ]
     },
     "execution_count": 12,
     "metadata": {},
     "output_type": "execute_result"
    }
   ],
   "source": [
    "scaler.inverse_transform(train)"
   ]
  },
  {
   "cell_type": "code",
   "execution_count": 27,
   "id": "1f07da0c",
   "metadata": {},
   "outputs": [
    {
     "data": {
      "text/plain": [
       "array([[-0.4307273 , -0.4307273 , -0.09234187, ...,  0.        ,\n",
       "         0.28176834,  0.76470967],\n",
       "       [-0.4307273 , -0.4307273 , -0.92643708, ..., -0.35549042,\n",
       "         0.11211209,  0.76470967],\n",
       "       [-0.4307273 ,  5.19933758, -0.35490646, ...,  1.24266374,\n",
       "        -0.34820391, -5.19933758],\n",
       "       ...,\n",
       "       [-0.4307273 ,  0.4307273 ,  0.84138502, ...,  0.66205417,\n",
       "        -0.30601006,  0.76470967],\n",
       "       [ 0.76470967,  5.19933758, -0.41872712, ..., -0.99969049,\n",
       "         0.67869297, -5.19933758],\n",
       "       [ 0.76470967, -0.4307273 , -0.07345828, ...,  0.1397103 ,\n",
       "        -0.14435845,  0.76470967]])"
      ]
     },
     "execution_count": 27,
     "metadata": {},
     "output_type": "execute_result"
    }
   ],
   "source": [
    "train_scaled"
   ]
  },
  {
   "cell_type": "code",
   "execution_count": 14,
   "id": "fc1f36ac",
   "metadata": {},
   "outputs": [
    {
     "data": {
      "text/plain": [
       "array([[-0.4307273 , -0.4307273 , -0.09234187, ...,  0.        ,\n",
       "         0.28176834,  0.76470967],\n",
       "       [-0.4307273 , -0.4307273 , -0.92643708, ..., -0.35549042,\n",
       "         0.11211209,  0.76470967],\n",
       "       [-0.4307273 ,  5.19933758, -0.35490646, ...,  1.24266374,\n",
       "        -0.34820391, -5.19933758],\n",
       "       ...,\n",
       "       [-0.4307273 ,  0.4307273 ,  0.84138502, ...,  0.66205417,\n",
       "        -0.30601006,  0.76470967],\n",
       "       [ 0.76470967,  5.19933758, -0.41872712, ..., -0.99969049,\n",
       "         0.67869297, -5.19933758],\n",
       "       [ 0.76470967, -0.4307273 , -0.07345828, ...,  0.1397103 ,\n",
       "        -0.14435845,  0.76470967]])"
      ]
     },
     "execution_count": 14,
     "metadata": {},
     "output_type": "execute_result"
    }
   ],
   "source": [
    "from sklearn.preprocessing import QuantileTransformer\n",
    "\n",
    "qt = QuantileTransformer(n_quantiles=10,output_distribution='normal', random_state=0)\n",
    "qt.fit_transform(train)"
   ]
  },
  {
   "cell_type": "code",
   "execution_count": 15,
   "id": "6a49c643",
   "metadata": {},
   "outputs": [],
   "source": [
    "train_scaled = qt.transform(train)"
   ]
  },
  {
   "cell_type": "code",
   "execution_count": 41,
   "id": "699a28bc",
   "metadata": {},
   "outputs": [
    {
     "data": {
      "text/plain": [
       "Text(0.5, 1.0, 'Scaled')"
      ]
     },
     "execution_count": 41,
     "metadata": {},
     "output_type": "execute_result"
    },
    {
     "data": {
      "image/png": "[encoded data removed]",
      "text/plain": [
       "<Figure size 936x432 with 2 Axes>"
      ]
     },
     "metadata": {
      "needs_background": "light"
     },
     "output_type": "display_data"
    }
   ],
   "source": [
    "plt.figure(figsize=(13, 6))\n",
    "plt.subplot(121)\n",
    "plt.hist(train, bins=25, ec='black')\n",
    "plt.title('Original')\n",
    "plt.subplot(122)\n",
    "plt.hist(train_scaled, bins=25, ec='black')\n",
    "plt.title('Scaled')"
   ]
  },
  {
   "cell_type": "code",
   "execution_count": 19,
   "id": "a9a30b98",
   "metadata": {},
   "outputs": [
    {
     "data": {
      "text/plain": [
       "Index(['bedrooms', 'bathrooms', 'sq_footage', 'tax_value', 'yr_built',\n",
       "       'taxamount', 'fips'],\n",
       "      dtype='object')"
      ]
     },
     "execution_count": 19,
     "metadata": {},
     "output_type": "execute_result"
    }
   ],
   "source": [
    "train.columns"
   ]
  },
  {
   "cell_type": "raw",
   "id": "29e053d5",
   "metadata": {},
   "source": []
  }
 ],
 "metadata": {
  "kernelspec": {
   "display_name": "Python 3",
   "language": "python",
   "name": "python3"
  },
  "language_info": {
   "codemirror_mode": {
    "name": "ipython",
    "version": 3
   },
   "file_extension": ".py",
   "mimetype": "text/x-python",
   "name": "python",
   "nbconvert_exporter": "python",
   "pygments_lexer": "ipython3",
   "version": "3.8.8"
  }
 },
 "nbformat": 4,
 "nbformat_minor": 5
}
